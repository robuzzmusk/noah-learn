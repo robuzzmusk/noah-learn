{
  "nbformat": 4,
  "nbformat_minor": 0,
  "metadata": {
    "colab": {
      "provenance": [],
      "authorship_tag": "ABX9TyMJrIiBTZYsDpxG4Kd/oABO",
      "include_colab_link": true
    },
    "kernelspec": {
      "name": "python3",
      "display_name": "Python 3"
    },
    "language_info": {
      "name": "python"
    }
  },
  "cells": [
    {
      "cell_type": "markdown",
      "metadata": {
        "id": "view-in-github",
        "colab_type": "text"
      },
      "source": [
        "<a href=\"https://colab.research.google.com/github/robuzzmusk/noah-learn/blob/main/getting_started_python.ipynb\" target=\"_parent\"><img src=\"https://colab.research.google.com/assets/colab-badge.svg\" alt=\"Open In Colab\"/></a>"
      ]
    },
    {
      "cell_type": "code",
      "execution_count": 14,
      "metadata": {
        "id": "B7QntkRQizha"
      },
      "outputs": [],
      "source": []
    },
    {
      "cell_type": "markdown",
      "source": [
        "##Intoduction to Python"
      ],
      "metadata": {
        "id": "G00GcYpjj0MY"
      }
    },
    {
      "cell_type": "markdown",
      "source": [
        "#"
      ],
      "metadata": {
        "id": "lx3Re9hSkREN"
      }
    },
    {
      "cell_type": "markdown",
      "source": [
        "#Statements in Python\n"
      ],
      "metadata": {
        "id": "QTB8kVKTkX0d"
      }
    },
    {
      "cell_type": "code",
      "source": [
        "print(\"hello world\")"
      ],
      "metadata": {
        "id": "BT_daNm1kqWu",
        "outputId": "868474ef-1550-4f6b-8022-08c5169ec570",
        "colab": {
          "base_uri": "https://localhost:8080/"
        }
      },
      "execution_count": 15,
      "outputs": [
        {
          "output_type": "stream",
          "name": "stdout",
          "text": [
            "hello world\n"
          ]
        }
      ]
    },
    {
      "cell_type": "code",
      "source": [
        "name = \"bob\"\n",
        "print(f\"hello {name}\")"
      ],
      "metadata": {
        "id": "l_acy9Xek85l",
        "outputId": "bcb4441d-32a5-4ce1-b700-61cfa992c705",
        "colab": {
          "base_uri": "https://localhost:8080/"
        }
      },
      "execution_count": 16,
      "outputs": [
        {
          "output_type": "stream",
          "name": "stdout",
          "text": [
            "hello bob\n"
          ]
        }
      ]
    },
    {
      "cell_type": "markdown",
      "source": [
        "#Datastructures: Lists and Dictionaries"
      ],
      "metadata": {
        "id": "Tb9hQTLklY4n"
      }
    },
    {
      "cell_type": "markdown",
      "source": [
        "####Lists"
      ],
      "metadata": {
        "id": "C3rrEzGSozd_"
      }
    },
    {
      "cell_type": "code",
      "source": [
        "fruit = [\"apple\", \"pear\", \"strawberry\"]"
      ],
      "metadata": {
        "id": "sDFHes4_l6ak"
      },
      "execution_count": 17,
      "outputs": []
    },
    {
      "cell_type": "code",
      "source": [
        "type(fruit)"
      ],
      "metadata": {
        "id": "fqWLe7d-mfDF",
        "outputId": "ba211e25-4057-4df7-fa27-2d4963e1cd82",
        "colab": {
          "base_uri": "https://localhost:8080/"
        }
      },
      "execution_count": 18,
      "outputs": [
        {
          "output_type": "execute_result",
          "data": {
            "text/plain": [
              "list"
            ]
          },
          "metadata": {},
          "execution_count": 18
        }
      ]
    },
    {
      "cell_type": "code",
      "source": [
        "fruit[0]"
      ],
      "metadata": {
        "id": "oZCBnOsImqf1",
        "outputId": "553d366c-ae1c-4d02-eb9d-4f50e551dedb",
        "colab": {
          "base_uri": "https://localhost:8080/",
          "height": 35
        }
      },
      "execution_count": 19,
      "outputs": [
        {
          "output_type": "execute_result",
          "data": {
            "text/plain": [
              "'apple'"
            ],
            "application/vnd.google.colaboratory.intrinsic+json": {
              "type": "string"
            }
          },
          "metadata": {},
          "execution_count": 19
        }
      ]
    },
    {
      "cell_type": "code",
      "source": [
        "for my_fruit in fruit:\n",
        "  print(f\"this is my favourite fruit: {my_fruit}\")"
      ],
      "metadata": {
        "id": "x2orBL2-myQt",
        "outputId": "28fe671f-e0c0-4d97-98da-d7f46d735e4e",
        "colab": {
          "base_uri": "https://localhost:8080/"
        }
      },
      "execution_count": 20,
      "outputs": [
        {
          "output_type": "stream",
          "name": "stdout",
          "text": [
            "this is my favourite fruit: apple\n",
            "this is my favourite fruit: pear\n",
            "this is my favourite fruit: strawberry\n"
          ]
        }
      ]
    },
    {
      "cell_type": "code",
      "source": [
        "my_fruit = \"pear\"\n",
        "while True:\n",
        "  if my_fruit == \"pear\":\n",
        "    print(f\"my selection is correct: {my_fruit}\")\n",
        "    break\n",
        "  else:\n",
        "    print(f\"not my area: {my_fruit}\")\n",
        "    break"
      ],
      "metadata": {
        "id": "2To3t9cCnK7t",
        "outputId": "c56705b1-6206-4b29-dc4d-5c8ee95f0213",
        "colab": {
          "base_uri": "https://localhost:8080/"
        }
      },
      "execution_count": 21,
      "outputs": [
        {
          "output_type": "stream",
          "name": "stdout",
          "text": [
            "my selection is correct: pear\n"
          ]
        }
      ]
    },
    {
      "cell_type": "markdown",
      "source": [
        "####Dictionary"
      ],
      "metadata": {
        "id": "qiNULsz_pBQt"
      }
    },
    {
      "cell_type": "code",
      "source": [
        "meal = {\"breakfast\": \"black coffe\", \"lunch\":\"salad\", \"dinner\": \"rice and beans\" }"
      ],
      "metadata": {
        "id": "aKRqg8tCpJnd"
      },
      "execution_count": 22,
      "outputs": []
    },
    {
      "cell_type": "code",
      "source": [
        "meal.keys()"
      ],
      "metadata": {
        "id": "RZNXTemypi4N",
        "outputId": "9e1624b3-81c7-47c5-cb30-144c1319a0d8",
        "colab": {
          "base_uri": "https://localhost:8080/"
        }
      },
      "execution_count": 23,
      "outputs": [
        {
          "output_type": "execute_result",
          "data": {
            "text/plain": [
              "dict_keys(['breakfast', 'lunch', 'dinner'])"
            ]
          },
          "metadata": {},
          "execution_count": 23
        }
      ]
    },
    {
      "cell_type": "code",
      "source": [
        "meal.values()"
      ],
      "metadata": {
        "id": "IZd8zUgfpsDN",
        "outputId": "bd53c57b-e36e-46dc-ad3d-dcdbf62526c4",
        "colab": {
          "base_uri": "https://localhost:8080/"
        }
      },
      "execution_count": 24,
      "outputs": [
        {
          "output_type": "execute_result",
          "data": {
            "text/plain": [
              "dict_values(['black coffe', 'salad', 'rice and beans'])"
            ]
          },
          "metadata": {},
          "execution_count": 24
        }
      ]
    },
    {
      "cell_type": "code",
      "source": [
        "for meal_name, meal_item in meal.items():\n",
        "  print(f\"the meal is :{meal_name}, is when i consume :{meal_item}\")"
      ],
      "metadata": {
        "id": "KvZSeSO9pzkd",
        "outputId": "e1d0397b-a4b4-41c4-e865-b8783167e40a",
        "colab": {
          "base_uri": "https://localhost:8080/"
        }
      },
      "execution_count": 29,
      "outputs": [
        {
          "output_type": "stream",
          "name": "stdout",
          "text": [
            "the meal is :breakfast, is when i consume :black coffe\n",
            "the meal is :lunch, is when i consume :salad\n",
            "the meal is :dinner, is when i consume :rice and beans\n"
          ]
        }
      ]
    }
  ]
}